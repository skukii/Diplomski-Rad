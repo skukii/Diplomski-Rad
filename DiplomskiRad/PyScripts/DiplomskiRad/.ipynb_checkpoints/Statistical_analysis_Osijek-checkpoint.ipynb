{
 "cells": [
  {
   "cell_type": "code",
   "execution_count": 1,
   "id": "593f53e5",
   "metadata": {},
   "outputs": [
    {
     "name": "stderr",
     "output_type": "stream",
     "text": [
      "C:\\Users\\anask\\anaconda3\\lib\\site-packages\\paramiko\\transport.py:219: CryptographyDeprecationWarning: Blowfish has been deprecated\n",
      "  \"class\": algorithms.Blowfish,\n"
     ]
    }
   ],
   "source": [
    "import numpy as np\n",
    "import seaborn as sns\n",
    "import pandas as pd\n",
    "import math\n",
    "from matplotlib import pyplot as plt\n",
    "from metpy.calc import relative_humidity_from_dewpoint\n",
    "from metpy.units import units\n",
    "from scipy.stats import pearsonr"
   ]
  },
  {
   "cell_type": "code",
   "execution_count": 2,
   "id": "e4412bec",
   "metadata": {},
   "outputs": [],
   "source": [
    "wind = pd.read_csv(\"pin_cop_osijek_wind.csv\",index_col = [0])\n",
    "rain = pd.read_csv(\"pin_cop_osijek_rain.csv\", index_col = [0])\n",
    "air = pd.read_csv(\"pin_cop_osijek_air_conditions.csv\", index_col = [0])\n",
    "temp = pd.read_csv(\"pin_cop_osijek_temperature.csv\", index_col = [0])"
   ]
  },
  {
   "cell_type": "code",
   "execution_count": 3,
   "id": "36356e5c",
   "metadata": {},
   "outputs": [
    {
     "data": {
      "text/html": [
       "<div>\n",
       "<style scoped>\n",
       "    .dataframe tbody tr th:only-of-type {\n",
       "        vertical-align: middle;\n",
       "    }\n",
       "\n",
       "    .dataframe tbody tr th {\n",
       "        vertical-align: top;\n",
       "    }\n",
       "\n",
       "    .dataframe thead th {\n",
       "        text-align: right;\n",
       "    }\n",
       "</style>\n",
       "<table border=\"1\" class=\"dataframe\">\n",
       "  <thead>\n",
       "    <tr style=\"text-align: right;\">\n",
       "      <th></th>\n",
       "      <th>u10</th>\n",
       "      <th>v10</th>\n",
       "      <th>wind-speed</th>\n",
       "    </tr>\n",
       "  </thead>\n",
       "  <tbody>\n",
       "    <tr>\n",
       "      <th>count</th>\n",
       "      <td>331.000000</td>\n",
       "      <td>331.000000</td>\n",
       "      <td>331.000000</td>\n",
       "    </tr>\n",
       "    <tr>\n",
       "      <th>mean</th>\n",
       "      <td>-0.251523</td>\n",
       "      <td>-1.175364</td>\n",
       "      <td>1.348640</td>\n",
       "    </tr>\n",
       "    <tr>\n",
       "      <th>std</th>\n",
       "      <td>1.502628</td>\n",
       "      <td>1.662984</td>\n",
       "      <td>1.584974</td>\n",
       "    </tr>\n",
       "    <tr>\n",
       "      <th>min</th>\n",
       "      <td>-5.348518</td>\n",
       "      <td>-5.798571</td>\n",
       "      <td>0.000000</td>\n",
       "    </tr>\n",
       "    <tr>\n",
       "      <th>25%</th>\n",
       "      <td>-1.400292</td>\n",
       "      <td>-2.286401</td>\n",
       "      <td>0.000000</td>\n",
       "    </tr>\n",
       "    <tr>\n",
       "      <th>50%</th>\n",
       "      <td>-0.403614</td>\n",
       "      <td>-1.138892</td>\n",
       "      <td>1.600000</td>\n",
       "    </tr>\n",
       "    <tr>\n",
       "      <th>75%</th>\n",
       "      <td>0.762007</td>\n",
       "      <td>0.147290</td>\n",
       "      <td>3.200000</td>\n",
       "    </tr>\n",
       "    <tr>\n",
       "      <th>max</th>\n",
       "      <td>3.627063</td>\n",
       "      <td>2.222303</td>\n",
       "      <td>8.000000</td>\n",
       "    </tr>\n",
       "  </tbody>\n",
       "</table>\n",
       "</div>"
      ],
      "text/plain": [
       "              u10         v10  wind-speed\n",
       "count  331.000000  331.000000  331.000000\n",
       "mean    -0.251523   -1.175364    1.348640\n",
       "std      1.502628    1.662984    1.584974\n",
       "min     -5.348518   -5.798571    0.000000\n",
       "25%     -1.400292   -2.286401    0.000000\n",
       "50%     -0.403614   -1.138892    1.600000\n",
       "75%      0.762007    0.147290    3.200000\n",
       "max      3.627063    2.222303    8.000000"
      ]
     },
     "execution_count": 3,
     "metadata": {},
     "output_type": "execute_result"
    }
   ],
   "source": [
    "wind.describe()"
   ]
  },
  {
   "cell_type": "code",
   "execution_count": 4,
   "id": "acc2c36d",
   "metadata": {},
   "outputs": [],
   "source": [
    "wind[\"u_v_speed\"] = np.sqrt(wind[\"u10\"]*wind[\"u10\"] + wind[\"v10\"]*wind[\"v10\"])"
   ]
  },
  {
   "cell_type": "code",
   "execution_count": 5,
   "id": "75fdd8f4",
   "metadata": {},
   "outputs": [],
   "source": [
    "u10 = list(wind[\"u10\"])\n",
    "v10 = list(wind[\"v10\"])\n",
    "direction_pinova = list(wind[\"wind-dir\"])\n",
    "u_v_wind_dir = []\n",
    "pinova_degrees = []\n",
    "myList = [180, 90, 270, 360, 45, 135, 225, 315, 22.5, 112.5, 67.5, 157.5, 202.5, 247.5, 292.5, 337.5]\n",
    "\n",
    "for i in range(len(u10)):\n",
    "    direction = math.degrees(math.atan2(float(v10[i]), float(u10[i])))\n",
    "    \n",
    "    if (direction<0):\n",
    "        u_v_dir_helper = direction+360\n",
    "    else:\n",
    "        u_v_dir_helper = direction\n",
    "    \n",
    "    rounded_helper = min(myList, key=lambda x:abs(x-u_v_dir_helper))\n",
    "    u_v_wind_dir.append(rounded_helper)\n",
    "        \n",
    "    if(direction_pinova[i].strip() == 'W'):\n",
    "        pinova_degrees.append(180)\n",
    "    elif(direction_pinova[i].strip() == 'N'):\n",
    "        pinova_degrees.append(90)\n",
    "    elif(direction_pinova[i].strip() == 'S'):\n",
    "        pinova_degrees.append(270)\n",
    "    elif(direction_pinova[i].strip() == 'E'):\n",
    "        pinova_degrees.append(360)\n",
    "    elif(direction_pinova[i].strip() == 'NE'):\n",
    "        pinova_degrees.append(45)\n",
    "    elif(direction_pinova[i].strip() == 'NW'):\n",
    "        pinova_degrees.append(135)\n",
    "    elif(direction_pinova[i].strip() == 'SW'):\n",
    "        pinova_degrees.append(225)\n",
    "    elif(direction_pinova[i].strip() == 'SE'):\n",
    "        pinova_degrees.append(315)\n",
    "        \n",
    "    elif(direction_pinova[i].strip() == 'NNE'):\n",
    "        pinova_degrees.append(22.5)\n",
    "    elif(direction_pinova[i].strip() == 'ESE'):\n",
    "        pinova_degrees.append(112.5)\n",
    "    elif(direction_pinova[i].strip() == 'ENE'):\n",
    "        pinova_degrees.append(67.5)\n",
    "    elif(direction_pinova[i].strip() == 'SSE'):\n",
    "        pinova_degrees.append(157.5)\n",
    "        \n",
    "    elif(direction_pinova[i].strip() == 'SSW'):\n",
    "        pinova_degrees.append(202.5)\n",
    "    elif(direction_pinova[i].strip() == 'WSW'):\n",
    "        pinova_degrees.append(247.5)\n",
    "    elif(direction_pinova[i].strip() == 'WNW'):\n",
    "        pinova_degrees.append(292.5)\n",
    "    elif(direction_pinova[i].strip() == 'NNW'):\n",
    "        pinova_degrees.append(337.5)\n",
    "        \n",
    "    else:\n",
    "        pinova_degrees.append(0)\n",
    "    \n",
    "wind[\"u_v_wind_dir\"]  = u_v_wind_dir\n",
    "wind[\"pinova_degrees\"] = pinova_degrees\n",
    "wind_calculated = wind[[\"wind-speed\", \"u_v_speed\", \"u_v_wind_dir\", \"pinova_degrees\"]]"
   ]
  },
  {
   "cell_type": "code",
   "execution_count": 6,
   "id": "466515e6",
   "metadata": {},
   "outputs": [
    {
     "data": {
      "text/plain": [
       "<seaborn.axisgrid.PairGrid at 0x21177df1a90>"
      ]
     },
     "execution_count": 6,
     "metadata": {},
     "output_type": "execute_result"
    },
    {
     "data": {
      "image/png": "[encoded data removed]",
      "text/plain": [
       "<Figure size 1000x1000 with 20 Axes>"
      ]
     },
     "metadata": {},
     "output_type": "display_data"
    }
   ],
   "source": [
    "sns.pairplot(data = wind_calculated)"
   ]
  },
  {
   "cell_type": "code",
   "execution_count": 7,
   "id": "5323e9ae",
   "metadata": {},
   "outputs": [
    {
     "data": {
      "text/plain": [
       "Text(0.5, 1.0, 'Spearman')"
      ]
     },
     "execution_count": 7,
     "metadata": {},
     "output_type": "execute_result"
    }
   ],
   "source": [
    "fig, axes = plt.subplots(1, 3, figsize=(15, 5), sharey=True)\n",
    "fig.suptitle('Wind comparisons and correlation')\n",
    "\n",
    "sns.heatmap(wind_calculated.corr(method='pearson'), vmin=-1, vmax=1, center=0, annot=True, linewidth=4, ax=axes[0])\n",
    "axes[0].set_title(\"Pearson\")\n",
    "\n",
    "sns.heatmap(wind_calculated.corr(method='kendall'), vmin=-1, vmax=1, center=0, annot=True, linewidth=4, ax=axes[1])\n",
    "axes[1].set_title(\"Kendall\")\n",
    "\n",
    "sns.heatmap(wind_calculated.corr(method='spearman'), vmin=-1, vmax=1, center=0, annot=True, linewidth=4, ax=axes[2])\n",
    "axes[2].set_title(\"Spearman\")"
   ]
  },
  {
   "cell_type": "code",
   "execution_count": 8,
   "id": "9fcb6e82",
   "metadata": {},
   "outputs": [
    {
     "data": {
      "text/html": [
       "<div>\n",
       "<style scoped>\n",
       "    .dataframe tbody tr th:only-of-type {\n",
       "        vertical-align: middle;\n",
       "    }\n",
       "\n",
       "    .dataframe tbody tr th {\n",
       "        vertical-align: top;\n",
       "    }\n",
       "\n",
       "    .dataframe thead th {\n",
       "        text-align: right;\n",
       "    }\n",
       "</style>\n",
       "<table border=\"1\" class=\"dataframe\">\n",
       "  <thead>\n",
       "    <tr style=\"text-align: right;\">\n",
       "      <th></th>\n",
       "      <th>sp</th>\n",
       "      <th>out-hum</th>\n",
       "      <th>dew-pt</th>\n",
       "      <th>bar</th>\n",
       "      <th>dew2m</th>\n",
       "      <th>temp2m</th>\n",
       "      <th>humidity</th>\n",
       "    </tr>\n",
       "  </thead>\n",
       "  <tbody>\n",
       "    <tr>\n",
       "      <th>count</th>\n",
       "      <td>331.000000</td>\n",
       "      <td>331.000000</td>\n",
       "      <td>331.000000</td>\n",
       "      <td>331.000000</td>\n",
       "      <td>331.000000</td>\n",
       "      <td>331.000000</td>\n",
       "      <td>331.000000</td>\n",
       "    </tr>\n",
       "    <tr>\n",
       "      <th>mean</th>\n",
       "      <td>100180.736154</td>\n",
       "      <td>59.341390</td>\n",
       "      <td>13.732628</td>\n",
       "      <td>100357.069486</td>\n",
       "      <td>13.702041</td>\n",
       "      <td>23.309502</td>\n",
       "      <td>58.039654</td>\n",
       "    </tr>\n",
       "    <tr>\n",
       "      <th>std</th>\n",
       "      <td>496.833871</td>\n",
       "      <td>19.034611</td>\n",
       "      <td>3.543311</td>\n",
       "      <td>489.612269</td>\n",
       "      <td>3.333447</td>\n",
       "      <td>5.875821</td>\n",
       "      <td>18.381276</td>\n",
       "    </tr>\n",
       "    <tr>\n",
       "      <th>min</th>\n",
       "      <td>98980.060000</td>\n",
       "      <td>24.000000</td>\n",
       "      <td>6.900000</td>\n",
       "      <td>99100.000000</td>\n",
       "      <td>8.106350</td>\n",
       "      <td>11.726220</td>\n",
       "      <td>25.948959</td>\n",
       "    </tr>\n",
       "    <tr>\n",
       "      <th>25%</th>\n",
       "      <td>99935.230000</td>\n",
       "      <td>44.000000</td>\n",
       "      <td>10.850000</td>\n",
       "      <td>100110.000000</td>\n",
       "      <td>10.806775</td>\n",
       "      <td>18.651865</td>\n",
       "      <td>42.916720</td>\n",
       "    </tr>\n",
       "    <tr>\n",
       "      <th>50%</th>\n",
       "      <td>100156.484000</td>\n",
       "      <td>60.000000</td>\n",
       "      <td>13.100000</td>\n",
       "      <td>100360.000000</td>\n",
       "      <td>12.820430</td>\n",
       "      <td>23.037900</td>\n",
       "      <td>56.798404</td>\n",
       "    </tr>\n",
       "    <tr>\n",
       "      <th>75%</th>\n",
       "      <td>100573.215000</td>\n",
       "      <td>76.000000</td>\n",
       "      <td>17.000000</td>\n",
       "      <td>100750.000000</td>\n",
       "      <td>16.932045</td>\n",
       "      <td>27.072025</td>\n",
       "      <td>73.150701</td>\n",
       "    </tr>\n",
       "    <tr>\n",
       "      <th>max</th>\n",
       "      <td>101014.810000</td>\n",
       "      <td>91.000000</td>\n",
       "      <td>21.300000</td>\n",
       "      <td>101140.000000</td>\n",
       "      <td>20.411340</td>\n",
       "      <td>35.535800</td>\n",
       "      <td>98.557032</td>\n",
       "    </tr>\n",
       "  </tbody>\n",
       "</table>\n",
       "</div>"
      ],
      "text/plain": [
       "                  sp     out-hum      dew-pt            bar       dew2m  \\\n",
       "count     331.000000  331.000000  331.000000     331.000000  331.000000   \n",
       "mean   100180.736154   59.341390   13.732628  100357.069486   13.702041   \n",
       "std       496.833871   19.034611    3.543311     489.612269    3.333447   \n",
       "min     98980.060000   24.000000    6.900000   99100.000000    8.106350   \n",
       "25%     99935.230000   44.000000   10.850000  100110.000000   10.806775   \n",
       "50%    100156.484000   60.000000   13.100000  100360.000000   12.820430   \n",
       "75%    100573.215000   76.000000   17.000000  100750.000000   16.932045   \n",
       "max    101014.810000   91.000000   21.300000  101140.000000   20.411340   \n",
       "\n",
       "           temp2m    humidity  \n",
       "count  331.000000  331.000000  \n",
       "mean    23.309502   58.039654  \n",
       "std      5.875821   18.381276  \n",
       "min     11.726220   25.948959  \n",
       "25%     18.651865   42.916720  \n",
       "50%     23.037900   56.798404  \n",
       "75%     27.072025   73.150701  \n",
       "max     35.535800   98.557032  "
      ]
     },
     "execution_count": 8,
     "metadata": {},
     "output_type": "execute_result"
    }
   ],
   "source": [
    "dew = np.array(air[\"dew2m\"])\n",
    "tmp = np.array(air[\"temp2m\"])\n",
    "humidity = []\n",
    "for i in range(len(dew)):\n",
    "    humidity.append(float(relative_humidity_from_dewpoint(tmp[i] * units.degC, dew[i] * units.degC))*100)\n",
    "air[\"humidity\"] = humidity\n",
    "air.describe()"
   ]
  },
  {
   "cell_type": "code",
   "execution_count": 9,
   "id": "7837e51d",
   "metadata": {},
   "outputs": [
    {
     "data": {
      "text/plain": [
       "<seaborn.axisgrid.PairGrid at 0x211791a1b80>"
      ]
     },
     "execution_count": 9,
     "metadata": {},
     "output_type": "execute_result"
    }
   ],
   "source": [
    "sns.pairplot(data = air)"
   ]
  },
  {
   "cell_type": "code",
   "execution_count": 10,
   "id": "35719607",
   "metadata": {},
   "outputs": [
    {
     "data": {
      "text/plain": [
       "Text(0.5, 1.0, 'Spearman')"
      ]
     },
     "execution_count": 10,
     "metadata": {},
     "output_type": "execute_result"
    }
   ],
   "source": [
    "fig, axes = plt.subplots(1, 3, figsize=(15, 5), sharey=True)\n",
    "fig.suptitle('Air variables comparison and correlation')\n",
    "\n",
    "sns.heatmap(air.corr(method='pearson'), vmin=-1, vmax=1, center=0, annot=True, linewidth=4, ax=axes[0])\n",
    "axes[0].set_title(\"Pearson\")\n",
    "\n",
    "sns.heatmap(air.corr(method='kendall'), vmin=-1, vmax=1, center=0, annot=True, linewidth=4, ax=axes[1])\n",
    "axes[1].set_title(\"Kendall\")\n",
    "\n",
    "sns.heatmap(air.corr(method='spearman'), vmin=-1, vmax=1, center=0, annot=True, linewidth=4, ax=axes[2])\n",
    "axes[2].set_title(\"Spearman\")"
   ]
  },
  {
   "cell_type": "code",
   "execution_count": 11,
   "id": "47c27e08",
   "metadata": {},
   "outputs": [
    {
     "data": {
      "text/html": [
       "<div>\n",
       "<style scoped>\n",
       "    .dataframe tbody tr th:only-of-type {\n",
       "        vertical-align: middle;\n",
       "    }\n",
       "\n",
       "    .dataframe tbody tr th {\n",
       "        vertical-align: top;\n",
       "    }\n",
       "\n",
       "    .dataframe thead th {\n",
       "        text-align: right;\n",
       "    }\n",
       "</style>\n",
       "<table border=\"1\" class=\"dataframe\">\n",
       "  <thead>\n",
       "    <tr style=\"text-align: right;\">\n",
       "      <th></th>\n",
       "      <th>rain</th>\n",
       "      <th>rain-rate</th>\n",
       "      <th>crr</th>\n",
       "      <th>tcrw</th>\n",
       "    </tr>\n",
       "  </thead>\n",
       "  <tbody>\n",
       "    <tr>\n",
       "      <th>count</th>\n",
       "      <td>331.000000</td>\n",
       "      <td>331.000000</td>\n",
       "      <td>3.310000e+02</td>\n",
       "      <td>331.000000</td>\n",
       "    </tr>\n",
       "    <tr>\n",
       "      <th>mean</th>\n",
       "      <td>0.060423</td>\n",
       "      <td>0.199396</td>\n",
       "      <td>1.720466e-05</td>\n",
       "      <td>0.001523</td>\n",
       "    </tr>\n",
       "    <tr>\n",
       "      <th>std</th>\n",
       "      <td>0.556372</td>\n",
       "      <td>1.751847</td>\n",
       "      <td>9.552839e-05</td>\n",
       "      <td>0.007744</td>\n",
       "    </tr>\n",
       "    <tr>\n",
       "      <th>min</th>\n",
       "      <td>0.000000</td>\n",
       "      <td>0.000000</td>\n",
       "      <td>2.910000e-11</td>\n",
       "      <td>0.000000</td>\n",
       "    </tr>\n",
       "    <tr>\n",
       "      <th>25%</th>\n",
       "      <td>0.000000</td>\n",
       "      <td>0.000000</td>\n",
       "      <td>2.910000e-11</td>\n",
       "      <td>0.000000</td>\n",
       "    </tr>\n",
       "    <tr>\n",
       "      <th>50%</th>\n",
       "      <td>0.000000</td>\n",
       "      <td>0.000000</td>\n",
       "      <td>2.910000e-11</td>\n",
       "      <td>0.000000</td>\n",
       "    </tr>\n",
       "    <tr>\n",
       "      <th>75%</th>\n",
       "      <td>0.000000</td>\n",
       "      <td>0.000000</td>\n",
       "      <td>2.910000e-11</td>\n",
       "      <td>0.000012</td>\n",
       "    </tr>\n",
       "    <tr>\n",
       "      <th>max</th>\n",
       "      <td>7.400000</td>\n",
       "      <td>22.600000</td>\n",
       "      <td>7.863050e-04</td>\n",
       "      <td>0.072839</td>\n",
       "    </tr>\n",
       "  </tbody>\n",
       "</table>\n",
       "</div>"
      ],
      "text/plain": [
       "             rain   rain-rate           crr        tcrw\n",
       "count  331.000000  331.000000  3.310000e+02  331.000000\n",
       "mean     0.060423    0.199396  1.720466e-05    0.001523\n",
       "std      0.556372    1.751847  9.552839e-05    0.007744\n",
       "min      0.000000    0.000000  2.910000e-11    0.000000\n",
       "25%      0.000000    0.000000  2.910000e-11    0.000000\n",
       "50%      0.000000    0.000000  2.910000e-11    0.000000\n",
       "75%      0.000000    0.000000  2.910000e-11    0.000012\n",
       "max      7.400000   22.600000  7.863050e-04    0.072839"
      ]
     },
     "execution_count": 11,
     "metadata": {},
     "output_type": "execute_result"
    }
   ],
   "source": [
    "rain.describe()"
   ]
  },
  {
   "cell_type": "code",
   "execution_count": 12,
   "id": "30e217bd",
   "metadata": {},
   "outputs": [
    {
     "data": {
      "text/plain": [
       "<seaborn.axisgrid.PairGrid at 0x21178eb3b20>"
      ]
     },
     "execution_count": 12,
     "metadata": {},
     "output_type": "execute_result"
    }
   ],
   "source": [
    "sns.pairplot(data = rain)"
   ]
  },
  {
   "cell_type": "code",
   "execution_count": 13,
   "id": "521e1eb6",
   "metadata": {},
   "outputs": [
    {
     "data": {
      "text/plain": [
       "Text(0.5, 1.0, 'Spearman')"
      ]
     },
     "execution_count": 13,
     "metadata": {},
     "output_type": "execute_result"
    }
   ],
   "source": [
    "fig, axes = plt.subplots(1, 3, figsize=(15, 5), sharey=True)\n",
    "fig.suptitle('Rain variables comparison and correlation')\n",
    "\n",
    "sns.heatmap(rain.corr(method='pearson'), vmin=-1, vmax=1, center=0, annot=True, linewidth=4, ax=axes[0])\n",
    "axes[0].set_title(\"Pearson\")\n",
    "\n",
    "sns.heatmap(rain.corr(method='kendall'), vmin=-1, vmax=1, center=0, annot=True, linewidth=4, ax=axes[1])\n",
    "axes[1].set_title(\"Kendall\")\n",
    "\n",
    "sns.heatmap(rain.corr(method='spearman'), vmin=-1, vmax=1, center=0, annot=True, linewidth=4, ax=axes[2])\n",
    "axes[2].set_title(\"Spearman\")"
   ]
  },
  {
   "cell_type": "code",
   "execution_count": 14,
   "id": "1483454d",
   "metadata": {},
   "outputs": [
    {
     "data": {
      "text/html": [
       "<div>\n",
       "<style scoped>\n",
       "    .dataframe tbody tr th:only-of-type {\n",
       "        vertical-align: middle;\n",
       "    }\n",
       "\n",
       "    .dataframe tbody tr th {\n",
       "        vertical-align: top;\n",
       "    }\n",
       "\n",
       "    .dataframe thead th {\n",
       "        text-align: right;\n",
       "    }\n",
       "</style>\n",
       "<table border=\"1\" class=\"dataframe\">\n",
       "  <thead>\n",
       "    <tr style=\"text-align: right;\">\n",
       "      <th></th>\n",
       "      <th>dew-pt</th>\n",
       "      <th>dew2m</th>\n",
       "      <th>temp2m</th>\n",
       "      <th>max2mt</th>\n",
       "      <th>min2mt</th>\n",
       "      <th>temp-out</th>\n",
       "      <th>hi-temp</th>\n",
       "      <th>low-temp</th>\n",
       "    </tr>\n",
       "  </thead>\n",
       "  <tbody>\n",
       "    <tr>\n",
       "      <th>count</th>\n",
       "      <td>331.000000</td>\n",
       "      <td>331.000000</td>\n",
       "      <td>331.000000</td>\n",
       "      <td>331.000000</td>\n",
       "      <td>331.000000</td>\n",
       "      <td>331.000000</td>\n",
       "      <td>331.000000</td>\n",
       "      <td>331.000000</td>\n",
       "    </tr>\n",
       "    <tr>\n",
       "      <th>mean</th>\n",
       "      <td>13.732628</td>\n",
       "      <td>13.702041</td>\n",
       "      <td>23.309502</td>\n",
       "      <td>24.008385</td>\n",
       "      <td>23.206344</td>\n",
       "      <td>23.086103</td>\n",
       "      <td>23.855891</td>\n",
       "      <td>22.306344</td>\n",
       "    </tr>\n",
       "    <tr>\n",
       "      <th>std</th>\n",
       "      <td>3.543311</td>\n",
       "      <td>3.333447</td>\n",
       "      <td>5.875821</td>\n",
       "      <td>4.910854</td>\n",
       "      <td>4.902484</td>\n",
       "      <td>6.085028</td>\n",
       "      <td>6.072076</td>\n",
       "      <td>6.009078</td>\n",
       "    </tr>\n",
       "    <tr>\n",
       "      <th>min</th>\n",
       "      <td>6.900000</td>\n",
       "      <td>8.106350</td>\n",
       "      <td>11.726220</td>\n",
       "      <td>14.908350</td>\n",
       "      <td>14.300000</td>\n",
       "      <td>10.400000</td>\n",
       "      <td>11.300000</td>\n",
       "      <td>10.100000</td>\n",
       "    </tr>\n",
       "    <tr>\n",
       "      <th>25%</th>\n",
       "      <td>10.850000</td>\n",
       "      <td>10.806775</td>\n",
       "      <td>18.651865</td>\n",
       "      <td>20.090795</td>\n",
       "      <td>19.250000</td>\n",
       "      <td>18.400000</td>\n",
       "      <td>19.100000</td>\n",
       "      <td>17.750000</td>\n",
       "    </tr>\n",
       "    <tr>\n",
       "      <th>50%</th>\n",
       "      <td>13.100000</td>\n",
       "      <td>12.820430</td>\n",
       "      <td>23.037900</td>\n",
       "      <td>23.642330</td>\n",
       "      <td>22.900000</td>\n",
       "      <td>23.200000</td>\n",
       "      <td>23.900000</td>\n",
       "      <td>22.000000</td>\n",
       "    </tr>\n",
       "    <tr>\n",
       "      <th>75%</th>\n",
       "      <td>17.000000</td>\n",
       "      <td>16.932045</td>\n",
       "      <td>27.072025</td>\n",
       "      <td>27.178575</td>\n",
       "      <td>26.350000</td>\n",
       "      <td>27.200000</td>\n",
       "      <td>28.050000</td>\n",
       "      <td>26.400000</td>\n",
       "    </tr>\n",
       "    <tr>\n",
       "      <th>max</th>\n",
       "      <td>21.300000</td>\n",
       "      <td>20.411340</td>\n",
       "      <td>35.535800</td>\n",
       "      <td>33.642480</td>\n",
       "      <td>33.500000</td>\n",
       "      <td>35.300000</td>\n",
       "      <td>36.100000</td>\n",
       "      <td>35.100000</td>\n",
       "    </tr>\n",
       "  </tbody>\n",
       "</table>\n",
       "</div>"
      ],
      "text/plain": [
       "           dew-pt       dew2m      temp2m      max2mt      min2mt    temp-out  \\\n",
       "count  331.000000  331.000000  331.000000  331.000000  331.000000  331.000000   \n",
       "mean    13.732628   13.702041   23.309502   24.008385   23.206344   23.086103   \n",
       "std      3.543311    3.333447    5.875821    4.910854    4.902484    6.085028   \n",
       "min      6.900000    8.106350   11.726220   14.908350   14.300000   10.400000   \n",
       "25%     10.850000   10.806775   18.651865   20.090795   19.250000   18.400000   \n",
       "50%     13.100000   12.820430   23.037900   23.642330   22.900000   23.200000   \n",
       "75%     17.000000   16.932045   27.072025   27.178575   26.350000   27.200000   \n",
       "max     21.300000   20.411340   35.535800   33.642480   33.500000   35.300000   \n",
       "\n",
       "          hi-temp    low-temp  \n",
       "count  331.000000  331.000000  \n",
       "mean    23.855891   22.306344  \n",
       "std      6.072076    6.009078  \n",
       "min     11.300000   10.100000  \n",
       "25%     19.100000   17.750000  \n",
       "50%     23.900000   22.000000  \n",
       "75%     28.050000   26.400000  \n",
       "max     36.100000   35.100000  "
      ]
     },
     "execution_count": 14,
     "metadata": {},
     "output_type": "execute_result"
    }
   ],
   "source": [
    "temp.describe()"
   ]
  },
  {
   "cell_type": "code",
   "execution_count": 15,
   "id": "609dc5e7",
   "metadata": {},
   "outputs": [
    {
     "data": {
      "text/plain": [
       "<seaborn.axisgrid.PairGrid at 0x2110c113dc0>"
      ]
     },
     "execution_count": 15,
     "metadata": {},
     "output_type": "execute_result"
    }
   ],
   "source": [
    "sns.pairplot(data = temp)"
   ]
  },
  {
   "cell_type": "code",
   "execution_count": 16,
   "id": "125a7990",
   "metadata": {},
   "outputs": [
    {
     "data": {
      "text/plain": [
       "Text(0.5, 1.0, 'Spearman')"
      ]
     },
     "execution_count": 16,
     "metadata": {},
     "output_type": "execute_result"
    }
   ],
   "source": [
    "fig, axes = plt.subplots(1, 3, figsize=(15, 5), sharey=True)\n",
    "fig.suptitle('Temperature variables comparison and correlation')\n",
    "\n",
    "sns.heatmap(temp.corr(method='pearson'), vmin=-1, vmax=1, center=0, annot=True, linewidth=4, ax=axes[0])\n",
    "axes[0].set_title(\"Pearson\")\n",
    "\n",
    "sns.heatmap(temp.corr(method='kendall'), vmin=-1, vmax=1, center=0, annot=True, linewidth=4, ax=axes[1])\n",
    "axes[1].set_title(\"Kendall\")\n",
    "\n",
    "sns.heatmap(temp.corr(method='spearman'), vmin=-1, vmax=1, center=0, annot=True, linewidth=4, ax=axes[2])\n",
    "axes[2].set_title(\"Spearman\")"
   ]
  },
  {
   "cell_type": "code",
   "execution_count": 17,
   "id": "3bde8da5",
   "metadata": {},
   "outputs": [],
   "source": [
    "wind.to_csv(\"pin_cop_os_wind_web.csv\")\n",
    "rain.to_csv(\"pin_cop_os_rain_web.csv\")\n",
    "air.to_csv(\"pin_cop_os_air_web.csv\")\n",
    "temp.to_csv(\"pin_cop_os_temp_web.csv\")"
   ]
  },
  {
   "cell_type": "code",
   "execution_count": 18,
   "id": "75eb777b",
   "metadata": {},
   "outputs": [],
   "source": [
    "from scipy import stats\n",
    "\n",
    "def coefficients(df, col1, col2, alpha):\n",
    "    corr_persons = stats.pearsonr(df[col1], df[col2])\n",
    "    print('2-tailed p-value Pearsons: '+ str(corr_persons[1]))\n",
    "    if corr_persons[1] < (float(alpha)/2):\n",
    "        print('There is a significant correlation between column1 and column2')\n",
    "    else:\n",
    "        print('There is no significant correlation between column1 and column2')\n",
    "    corr_kendall = stats.kendalltau(df[col1], df[col2])\n",
    "    print('2-tailed p-value Kendall: ' + str(corr_kendall[1]))\n",
    "    if corr_kendall[1] < (float(alpha)/2):\n",
    "        print('There is a significant correlation between column1 and column2')\n",
    "    else:\n",
    "        print('There is no significant correlation between column1 and column2')\n",
    "    corr_spearmans = stats.spearmanr(df[col1], df[col2])\n",
    "    print('2-tailed p-value Spearman: ' + str(corr_spearmans[1]))\n",
    "    if corr_spearmans[1] < (float(alpha)/2):\n",
    "        print('There is a significant correlation between column1 and column2')\n",
    "    else:\n",
    "        print('There is no significant correlation between column1 and column2')\n",
    "    "
   ]
  },
  {
   "cell_type": "code",
   "execution_count": 19,
   "id": "289faf7e",
   "metadata": {},
   "outputs": [],
   "source": [
    "def lin_reg(x, y):\n",
    "    mask = ~np.isnan(x) & ~np.isnan(y)\n",
    "    return stats.linregress(x[mask], y[mask])"
   ]
  },
  {
   "cell_type": "code",
   "execution_count": 25,
   "id": "80500e6f",
   "metadata": {},
   "outputs": [
    {
     "name": "stdout",
     "output_type": "stream",
     "text": [
      "slope: 0.29579122227044197\n",
      "intercept: 1.917600830296672\n",
      "r_value: 0.4490461380095719\n",
      "p_value: 7.891362549780721e-18\n",
      "std_err: 0.03244853471715375\n"
     ]
    }
   ],
   "source": [
    "slope, intercept, r_value, p_value, std_err = lin_reg(wind[\"wind-speed\"], wind[\"u_v_speed\"])\n",
    "print(\"slope:\", slope)\n",
    "print(\"intercept:\", intercept)\n",
    "print(\"r_value:\", r_value)\n",
    "print(\"p_value:\", p_value)\n",
    "print(\"std_err:\", std_err)"
   ]
  },
  {
   "cell_type": "code",
   "execution_count": 26,
   "id": "f8fb305d",
   "metadata": {},
   "outputs": [
    {
     "name": "stdout",
     "output_type": "stream",
     "text": [
      "slope: -0.17304785519095178\n",
      "intercept: 254.80825719838276\n",
      "r_value: -0.2652356974519286\n",
      "p_value: 9.818628862641586e-07\n",
      "std_err: 0.03468135365488629\n"
     ]
    }
   ],
   "source": [
    "slope, intercept, r_value, p_value, std_err = lin_reg(wind[\"pinova_degrees\"], wind[\"u_v_wind_dir\"])\n",
    "print(\"slope:\", slope)\n",
    "print(\"intercept:\", intercept)\n",
    "print(\"r_value:\", r_value)\n",
    "print(\"p_value:\", p_value)\n",
    "print(\"std_err:\", std_err)"
   ]
  },
  {
   "cell_type": "code",
   "execution_count": 27,
   "id": "4d8685ff",
   "metadata": {},
   "outputs": [
    {
     "name": "stdout",
     "output_type": "stream",
     "text": [
      "slope: 8.465225020329841e-06\n",
      "intercept: 1.551672764216988e-05\n",
      "r_value: 0.15523953382501723\n",
      "p_value: 0.00464270489439357\n",
      "std_err: 2.9698946218865047e-06\n"
     ]
    }
   ],
   "source": [
    "slope, intercept, r_value, p_value, std_err = lin_reg(rain[\"rain-rate\"], rain[\"crr\"])\n",
    "print(\"slope:\", slope)\n",
    "print(\"intercept:\", intercept)\n",
    "print(\"r_value:\", r_value)\n",
    "print(\"p_value:\", p_value)\n",
    "print(\"std_err:\", std_err)"
   ]
  },
  {
   "cell_type": "code",
   "execution_count": 28,
   "id": "c6da174e",
   "metadata": {},
   "outputs": [
    {
     "name": "stdout",
     "output_type": "stream",
     "text": [
      "slope: 0.0005184585423291504\n",
      "intercept: 0.0014919906832429515\n",
      "r_value: 0.03724885711274032\n",
      "p_value: 0.4994507027678632\n",
      "std_err: 0.0007668344889481991\n"
     ]
    }
   ],
   "source": [
    "slope, intercept, r_value, p_value, std_err = lin_reg(rain[\"rain\"], rain[\"tcrw\"])\n",
    "print(\"slope:\", slope)\n",
    "print(\"intercept:\", intercept)\n",
    "print(\"r_value:\", r_value)\n",
    "print(\"p_value:\", p_value)\n",
    "print(\"std_err:\", std_err)"
   ]
  },
  {
   "cell_type": "code",
   "execution_count": 29,
   "id": "11f8ce35",
   "metadata": {},
   "outputs": [
    {
     "name": "stdout",
     "output_type": "stream",
     "text": [
      "slope: 0.9751631402492366\n",
      "intercept: 2664.5082259133487\n",
      "r_value: 0.9895464407341115\n",
      "p_value: 9.152778563359777e-279\n",
      "std_err: 0.007835239581779183\n"
     ]
    }
   ],
   "source": [
    "slope, intercept, r_value, p_value, std_err = lin_reg(air[\"sp\"], air[\"bar\"])\n",
    "print(\"slope:\", slope)\n",
    "print(\"intercept:\", intercept)\n",
    "print(\"r_value:\", r_value)\n",
    "print(\"p_value:\", p_value)\n",
    "print(\"std_err:\", std_err)"
   ]
  },
  {
   "cell_type": "code",
   "execution_count": 30,
   "id": "e45a539c",
   "metadata": {},
   "outputs": [
    {
     "name": "stdout",
     "output_type": "stream",
     "text": [
      "slope: 0.8342850613086505\n",
      "intercept: 8.532018863035617\n",
      "r_value: 0.8639385196749428\n",
      "p_value: 4.914949810270843e-100\n",
      "std_err: 0.026811250346139237\n"
     ]
    }
   ],
   "source": [
    "slope, intercept, r_value, p_value, std_err = lin_reg(air[\"out-hum\"], air[\"humidity\"])\n",
    "print(\"slope:\", slope)\n",
    "print(\"intercept:\", intercept)\n",
    "print(\"r_value:\", r_value)\n",
    "print(\"p_value:\", p_value)\n",
    "print(\"std_err:\", std_err)"
   ]
  },
  {
   "cell_type": "code",
   "execution_count": 31,
   "id": "b79ef073",
   "metadata": {},
   "outputs": [
    {
     "name": "stdout",
     "output_type": "stream",
     "text": [
      "slope: 0.8644992787069351\n",
      "intercept: 1.8301937421076335\n",
      "r_value: 0.9189257576962044\n",
      "p_value: 5.672786710919278e-135\n",
      "std_err: 0.02045769957891115\n"
     ]
    }
   ],
   "source": [
    "slope, intercept, r_value, p_value, std_err = lin_reg(temp[\"dew-pt\"], temp[\"dew2m\"])\n",
    "print(\"slope:\", slope)\n",
    "print(\"intercept:\", intercept)\n",
    "print(\"r_value:\", r_value)\n",
    "print(\"p_value:\", p_value)\n",
    "print(\"std_err:\", std_err)"
   ]
  },
  {
   "cell_type": "code",
   "execution_count": 32,
   "id": "5952f4b2",
   "metadata": {},
   "outputs": [
    {
     "name": "stdout",
     "output_type": "stream",
     "text": [
      "slope: 0.8962926097343843\n",
      "intercept: 2.617599011222662\n",
      "r_value: 0.9282048154940358\n",
      "p_value: 2.5735494758121352e-143\n",
      "std_err: 0.019807619689899417\n"
     ]
    }
   ],
   "source": [
    "slope, intercept, r_value, p_value, std_err = lin_reg(temp[\"temp-out\"], temp[\"temp2m\"])\n",
    "print(\"slope:\", slope)\n",
    "print(\"intercept:\", intercept)\n",
    "print(\"r_value:\", r_value)\n",
    "print(\"p_value:\", p_value)\n",
    "print(\"std_err:\", std_err)"
   ]
  },
  {
   "cell_type": "code",
   "execution_count": 33,
   "id": "8ce36571",
   "metadata": {},
   "outputs": [
    {
     "name": "stdout",
     "output_type": "stream",
     "text": [
      "slope: 0.7376548180167627\n",
      "intercept: 6.410971874604947\n",
      "r_value: 0.9120808871188003\n",
      "p_value: 1.9597300281486216e-129\n",
      "std_err: 0.018281703376618087\n"
     ]
    }
   ],
   "source": [
    "slope, intercept, r_value, p_value, std_err = lin_reg(temp[\"hi-temp\"], temp[\"max2mt\"])\n",
    "print(\"slope:\", slope)\n",
    "print(\"intercept:\", intercept)\n",
    "print(\"r_value:\", r_value)\n",
    "print(\"p_value:\", p_value)\n",
    "print(\"std_err:\", std_err)"
   ]
  },
  {
   "cell_type": "code",
   "execution_count": 34,
   "id": "7aed6086",
   "metadata": {},
   "outputs": [
    {
     "name": "stdout",
     "output_type": "stream",
     "text": [
      "slope: 0.7392769317797373\n",
      "intercept: 6.7157785555815295\n",
      "r_value: 0.9061472655542713\n",
      "p_value: 5.480044473280105e-125\n",
      "std_err: 0.019024450085569803\n"
     ]
    }
   ],
   "source": [
    "slope, intercept, r_value, p_value, std_err = lin_reg(temp[\"low-temp\"], temp[\"min2mt\"])\n",
    "print(\"slope:\", slope)\n",
    "print(\"intercept:\", intercept)\n",
    "print(\"r_value:\", r_value)\n",
    "print(\"p_value:\", p_value)\n",
    "print(\"std_err:\", std_err)"
   ]
  },
  {
   "cell_type": "code",
   "execution_count": null,
   "id": "d374b606",
   "metadata": {},
   "outputs": [],
   "source": []
  }
 ],
 "metadata": {
  "kernelspec": {
   "display_name": "Python 3 (ipykernel)",
   "language": "python",
   "name": "python3"
  },
  "language_info": {
   "codemirror_mode": {
    "name": "ipython",
    "version": 3
   },
   "file_extension": ".py",
   "mimetype": "text/x-python",
   "name": "python",
   "nbconvert_exporter": "python",
   "pygments_lexer": "ipython3",
   "version": "3.9.13"
  }
 },
 "nbformat": 4,
 "nbformat_minor": 5
}
